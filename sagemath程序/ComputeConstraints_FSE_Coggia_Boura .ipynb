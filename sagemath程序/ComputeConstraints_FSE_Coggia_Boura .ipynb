{
 "cells": [
  {
   "cell_type": "code",
   "execution_count": 7,
   "metadata": {},
   "outputs": [],
   "source": [
    "# 论文：Efficient MILP Modelings for Sboxes and Linear Layers of SPN ciphers\n",
    "\n",
    "\n",
    "# 使用PRESENT的S-box\n",
    "from sage.crypto.sboxes import PRESENT\n",
    "\n",
    "PRESENT.difference_distribution_table()\n",
    "# 使用RECTANGLE的S-box\n",
    "# from sage.crypto.sbox import SBox\n",
    "# sagemath没有RECTANGLE，因此自己写出S-box\n",
    "# S = SBox([6,5,12,10,1,14,7,9,11,0,3,13,8,15,4,2])\n",
    "# S-box是4bit输出和4bit输出，因此 n=4+4=8\n",
    "n = 8\n",
    "# 给出S-box的可行的差分路径的点，实际就是ddt中不为0的点的坐标，这里我直接用一个[0,256）十进制表示了，合理的应该是两个[0,15)的十进制表示\n",
    "S_pos = set([(16)*diff+PRESENT(x)^^PRESENT(x^^diff) for diff in range((16)) for x in range(16)])\n",
    "\n",
    "# 如果给出的是PRESENT的S-box，那么要将S改为PRESENT，即\n",
    "# S_pos = set([(16)*diff+PRESENT(x)^^PRESENT(x^^diff) for diff in range((16)) for x in range(16)])\n",
    "\n",
    "# 取补集\n",
    "S_complement = set([16*x+y for x in range(16) for y in range(16)]).difference(S_pos)\n",
    "# 存储S_pos中点的二进制形式\n",
    "Set_points = []\n",
    "# 存储S_complement的二进制形式\n",
    "Set_impossible = []\n",
    "# S_pos十进制转二进制\n",
    "for s in S_pos:\n",
    "    s_binary = s.bits()\n",
    "    if len(s_binary) != n:\n",
    "        for i in range(n-len(s_binary)):\n",
    "            s_binary.append(0) \n",
    "    Set_points.append(s_binary)\n",
    "# S_complement十进制转二进制\n",
    "for s in S_complement:\n",
    "    s_binary = s.bits()\n",
    "    if len(s_binary) != n:\n",
    "        for i in range(n-len(s_binary)):\n",
    "            s_binary.append(0) \n",
    "    Set_impossible.append(s_binary)\n",
    "# generating the convex hull corresponding to S_pos  \n",
    "C_set = Polyhedron(vertices = Set_points)\n",
    "\n",
    "# gives us an initial set of inequalities \n",
    "# 注意不等式用一个9bit向量表示，第一个比特是常数项，后8个才是系数，不等式大于等于0\n",
    "old_set = []\n",
    "for ineq in C_set.inequality_generator():\n",
    "    old_set.append(list(ineq))"
   ]
  },
  {
   "cell_type": "code",
   "execution_count": 8,
   "metadata": {},
   "outputs": [
    {
     "data": {
      "text/plain": [
       "327"
      ]
     },
     "execution_count": 8,
     "metadata": {},
     "output_type": "execute_result"
    }
   ],
   "source": [
    "# Algorithm 1 Compute a set of inequalities from possible transitions.\n",
    "# 大概10min跑出结果\n",
    "for p in Set_points:\n",
    "    PH_set = []\n",
    "    for ineq in old_set:\n",
    "        if ineq[0] + sum(ineq[i]*p[i-1] for i in range(1,len(ineq))) == 0:\n",
    "            PH_set.append(ineq)\n",
    "    for c_1_index in range(len(PH_set)):\n",
    "        c_1 = list(PH_set[c_1_index])\n",
    "        # 要求点p满足不等式的等号 对应Algorithm 1 line 5,不过这里设置k=2，所以要有c_1,c_2\n",
    "        for c_2_index in range(c_1_index+1,len(PH_set)):\n",
    "            c_2 = list(PH_set[c_2_index])\n",
    "            # 记录在S_complement中的点，这些点是符合c_1和c_2这两个不等式的，\n",
    "            Set_original_points_without_S = []\n",
    "            for p_impossible in Set_impossible:\n",
    "                if c_2[0] + sum(c_2[i]*p_impossible[i-1] for i in range(1,n+1)) >= 0 and c_1[0] + sum(c_1[i]*p_impossible[i-1] for i in range(1,n+1)) >= 0:\n",
    "                    Set_original_points_without_S.append(p_impossible)\n",
    "#                     print(Set_original_points_without_S)\n",
    "            c_new = c_1 + c_2\n",
    "            # 如果Set_original_points_without_S中的点被c_new排除，那么c_new要加入到old_set中，对应Algorithm 1 line 7 8\n",
    "            for x in Set_original_points_without_S:\n",
    "                if c_new[0] + sum(c_new[i]*x[i-1] for i in range(1,n+1)) < 0:\n",
    "                    print(1)\n",
    "                    if c_new not in old_set:\n",
    "                        old_set.append(c_new)\n",
    "len(old_set)  "
   ]
  },
  {
   "cell_type": "code",
   "execution_count": 161,
   "metadata": {},
   "outputs": [
    {
     "data": {
      "text/plain": [
       "267"
      ]
     },
     "execution_count": 161,
     "metadata": {},
     "output_type": "execute_result"
    }
   ],
   "source": [
    "# # Algorithm 1 Compute a set of inequalities from possible transitions.\n",
    "# # 大概几个h，没有计算多长时间，我正在跑，文章也说了要 a few hours\n",
    "# for p in Set_points:\n",
    "#     for c_1_index in range(len(old_set)):\n",
    "#         c_1 = list(old_set[c_1_index])\n",
    "#         # 要求点p满足不等式的等号 对应Algorithm 1 line 5,不过这里设置k=3，所以要有c_1,c_2，c_3\n",
    "#         if c_1[0] + sum(c_1[i]*p[i-1] for i in range(1,n+1)) == 0:\n",
    "#             for c_2_index in range(c_1_index+1,len(old_set)):\n",
    "#                 c_2 = list(old_set[c_2_index])\n",
    "#                 # 同上\n",
    "#                 if c_2[0] + sum(c_2[i]*p[i-1] for i in range(1,n+1)) == 0:\n",
    "#                     for c_3_index in range(c_2_index+1,len(old_set)):\n",
    "#                         c_3 = list(old_set[c_3_index])\n",
    "#                         if c_3[0] + sum(c_3[i]*p[i-1] for i in range(1,n+1)) == 0:\n",
    "#                             # 记录在S_complement中的点，这些点是符合c_1和c_2这两个不等式的，\n",
    "#                             Set_original_points_without_S = []\n",
    "#                             for p_impossible in Set_impossible:\n",
    "#                                 if c_3[0] + sum(c_3[i]*p_impossible[i-1] for i in range(1,n+1)) >= 0 and c_2[0] + sum(c_2[i]*p_impossible[i-1] for i in range(1,n+1)) >= 0 and c_1[0] + sum(c_1[i]*p_impossible[i-1] for i in range(1,n+1)) >= 0:\n",
    "#                                     Set_original_points_without_S.append(p_impossible)\n",
    "#                             c_new = c_1 + c_2 + c_3\n",
    "#                             # 如果Set_original_points_without_S中的点被c_new排除，那么c_new要加入到old_set中，对应Algorithm 1 line 7 8\n",
    "#                             for x in Set_original_points_without_S:\n",
    "#                                 if c_new[0] + sum(c_new[i]*x[i-1] for i in range(1,n+1)) < 0:\n",
    "#                                     if c_new not in old_set:\n",
    "#                                         old_set.append(c_new)\n",
    "# len(old_set)  "
   ]
  },
  {
   "cell_type": "code",
   "execution_count": 6,
   "metadata": {},
   "outputs": [
    {
     "name": "stdout",
     "output_type": "stream",
     "text": [
      "[6, 0, -1, 2, -1, -1, -2, -2, -1]\n",
      "[8, -1, 1, -2, -2, -1, 2, -2, -3]\n",
      "[8, -1, -2, -2, 1, -1, -2, 2, -3]\n",
      "[3, 1, -1, 0, -1, 0, -1, -1, 1]\n",
      "[0, 4, 3, 4, 1, -2, 3, -2, 1]\n",
      "[6, 2, 1, -2, -2, -1, -2, 1, -1]\n",
      "[0, -1, 2, 3, -1, 2, -1, 2, 2]\n",
      "[0, 1, 4, 1, 4, 3, -2, -2, 0]\n",
      "[2, -1, 0, 0, 0, -1, 1, 1, -1]\n",
      "[7, -3, 3, -1, -1, 1, -2, -3, 3]\n",
      "[7, -3, -1, -1, 3, 1, -3, -2, 3]\n",
      "[0, -1, 2, 2, 2, -1, 3, 3, -1]\n",
      "[1, -1, -1, 2, 1, 1, 1, -1, 1]\n",
      "[0, 2, -1, 1, -1, 1, 2, 2, 0]\n",
      "[6, 2, -2, -2, 1, -1, 1, -2, -1]\n",
      "[0, 1, 1, -4, 1, 2, 3, 3, 2]\n",
      "[0, 4, 1, 4, 3, -2, -2, 3, 1]\n",
      "[8, -1, -4, -2, -4, -1, 2, 2, 3]\n",
      "[10, -3, 3, -4, 1, -2, -3, -2, 1]\n",
      "[9, 1, -3, -3, -1, -3, 2, -2, 1]\n",
      "[7, -1, -2, 0, -2, 2, -1, -1, -2]\n",
      "We need  21 inequalities to represent the ddt of s-box\n"
     ]
    }
   ],
   "source": [
    "# todo 的算法，是ST17a， 应用了MILP模型，\n",
    "# 瞬间得到结果\n",
    "todo_list = []\n",
    "for p in Set_impossible:\n",
    "    p_ineq = []\n",
    "    for i in range(len(old_set)):\n",
    "        ineq = old_set[i]\n",
    "        if ineq[0] + sum(ineq[i]*p[i-1] for i in range(1,n+1)) < 0:\n",
    "            p_ineq.append(i)\n",
    "    todo_list.append(p_ineq)\n",
    "\n",
    "p = MixedIntegerLinearProgram(maximization=False, solver = \"GLPK\")\n",
    "# a[i]=0 代表算法得到的最小的不等式集合中没有old_set中第i个不等式，a[i]=1就是有\n",
    "# 所以min sum_{0<=i<=size(old_set)} a[i]即可\n",
    "a = p.new_variable(integer=True, nonnegative=True)\n",
    "for i in range(len(old_set)):\n",
    "    p.set_max(a[i],1)\n",
    "for j in range(len(todo_list)):\n",
    "    p_ineqs = todo_list[j]\n",
    "    p.add_constraint(sum(a[i] for i in p_ineqs) >= 1)\n",
    "p.set_objective(sum(a[i] for i in range(len(old_set))))\n",
    "p.solve()\n",
    "\n",
    "values = p.get_values(a)\n",
    "counter = 0\n",
    "for i in range(len(values)):\n",
    "    if values[i] == 1:\n",
    "        counter = counter + 1\n",
    "        print(old_set[i])\n",
    "print(\"We need \",counter,\"inequalities to represent the ddt of s-box\")\n"
   ]
  },
  {
   "cell_type": "code",
   "execution_count": 194,
   "metadata": {},
   "outputs": [
    {
     "data": {
      "text/plain": [
       "327"
      ]
     },
     "execution_count": 194,
     "metadata": {},
     "output_type": "execute_result"
    }
   ],
   "source": [
    "len(old_set)"
   ]
  }
 ],
 "metadata": {
  "kernelspec": {
   "display_name": "SageMath 9.3",
   "language": "sage",
   "name": "sagemath"
  },
  "language_info": {
   "codemirror_mode": {
    "name": "ipython",
    "version": 3
   },
   "file_extension": ".py",
   "mimetype": "text/x-python",
   "name": "python",
   "nbconvert_exporter": "python",
   "pygments_lexer": "ipython3",
   "version": "3.7.10"
  }
 },
 "nbformat": 4,
 "nbformat_minor": 4
}
